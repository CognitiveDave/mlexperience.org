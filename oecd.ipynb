{
 "cells": [
  {
   "cell_type": "code",
   "execution_count": 195,
   "metadata": {},
   "outputs": [],
   "source": [
    "import pandasdmx\n",
    "oecd = pandasdmx.Request('OECD')"
   ]
  },
  {
   "cell_type": "code",
   "execution_count": 196,
   "metadata": {},
   "outputs": [],
   "source": [
    "data_response = oecd.data(resource_id='NAAG', key='all?startTime=2000')"
   ]
  },
  {
   "cell_type": "code",
   "execution_count": 197,
   "metadata": {},
   "outputs": [],
   "source": [
    "data = data_response.to_pandas()"
   ]
  },
  {
   "cell_type": "code",
   "execution_count": 198,
   "metadata": {},
   "outputs": [
    {
     "data": {
      "text/plain": [
       "FrozenList(['LOCATION', 'INDICATOR'])"
      ]
     },
     "execution_count": 198,
     "metadata": {},
     "output_type": "execute_result"
    }
   ],
   "source": [
    "data.columns.names"
   ]
  },
  {
   "cell_type": "code",
   "execution_count": 199,
   "metadata": {},
   "outputs": [
    {
     "data": {
      "text/plain": [
       "FrozenList([['AUS', 'AUT', 'BEL', 'BRA', 'CAN', 'CHE', 'CHL', 'CHN', 'COL', 'CRI', 'CZE', 'DEU', 'DNK', 'EMU', 'ESP', 'EST', 'EUU', 'FIN', 'FRA', 'GBR', 'GRC', 'HUN', 'IDN', 'IND', 'IRL', 'ISL', 'ISR', 'ITA', 'JPN', 'KOR', 'LTU', 'LUX', 'LVA', 'MEX', 'NLD', 'NOR', 'NZL', 'OTO', 'POL', 'PRT', 'RUS', 'SVK', 'SVN', 'SWE', 'TUR', 'USA', 'ZAF'], ['AN1111NS14_S15HCPC', 'AN11NVIXOB', 'AN211NS14_S15HCPC', 'ANNS14_S15HCPC', 'ANOTHNS14_S15HCPC', 'B11CG', 'B1GG', 'B1GSB1G', 'B1GVACG', 'B1GVAG', 'B1GVASB1G', 'B1GVB_ECG', 'B1GVB_EG', 'B1GVB_ESB1G', 'B1GVB_FCG', 'B1GVB_FSB1G', 'B1GVCCG', 'B1GVCG', 'B1GVCSB1G', 'B1GVFCG', 'B1GVFG', 'B1GVFSB1G', 'B1GVG_ICG', 'B1GVG_IG', 'B1GVG_ISB1G', 'B1GVG_UCG', 'B1GVG_USB1G', 'B1GVJCG', 'B1GVJG', 'B1GVJSB1G', 'B1GVKCG', 'B1GVKG', 'B1GVKSB1G', 'B1GVLCG', 'B1GVLG', 'B1GVLSB1G', 'B1GVM_NCG', 'B1GVM_NG', 'B1GVM_NSB1G', 'B1GVO_QCG', 'B1GVO_QG', 'B1GVO_QSB1G', 'B1GVR_UCG', 'B1GVR_UG', 'B1GVR_USB1G', 'B2NSB1NS11', 'B2NSB1NS12', 'B5NG', 'B5NVIXOB', 'B6GS14_S15HCPC', 'B6NS14_S15DEF', 'B6NS14_S15DEFG', 'B7GS14_S15HCPC', 'B7NS14_S15DEFG', 'B7NS14_S15P41DEF', 'B7NS14_S15VIXOB', 'B8NS', 'B8NS13S', 'B8NS14_S15SB6NS14', 'B9S11_S12S', 'B9S13S', 'B9S14_S15S', 'B9S1S', 'D1S13S', 'D1SB1G', 'D1SB1NS11', 'D1SB1NS12', 'D1VASB1G', 'D1VB_ESB1G', 'D1VB_FSB1G', 'D1VCSB1G', 'D1VFSB1G', 'D1VG_ISB1G', 'D1VG_USB1G', 'D1VJSB1G', 'D1VKSB1G', 'D1VLSB1G', 'D1VM_NSB1G', 'D1VO_QSB1G', 'D1VR_USB1G', 'D2D5D91RS13S', 'D2RS13S', 'D2_D3SB1NS11', 'D2_D3SB1NS12', 'D5RS13S', 'D61RS1311S', 'D61RS1312S', 'D61RS1313S', 'D61RS1314S', 'D61RS13S', 'D62PS13S', 'D62PS13STE', 'D62_D631XXS13S', 'D62_D63PS13S', 'D62_D63PS13STE', 'D63PS13S', 'D63PS13STE', 'D91RS13S', 'D91_OTHRS13S', 'DBTADJS13GDP', ...]])"
      ]
     },
     "execution_count": 199,
     "metadata": {},
     "output_type": "execute_result"
    }
   ],
   "source": [
    "data.columns.levels"
   ]
  },
  {
   "cell_type": "code",
   "execution_count": 200,
   "metadata": {},
   "outputs": [],
   "source": [
    "df = data.unstack()"
   ]
  },
  {
   "cell_type": "code",
   "execution_count": 201,
   "metadata": {},
   "outputs": [
    {
     "data": {
      "text/html": [
       "<div>\n",
       "<style scoped>\n",
       "    .dataframe tbody tr th:only-of-type {\n",
       "        vertical-align: middle;\n",
       "    }\n",
       "\n",
       "    .dataframe tbody tr th {\n",
       "        vertical-align: top;\n",
       "    }\n",
       "\n",
       "    .dataframe thead th {\n",
       "        text-align: right;\n",
       "    }\n",
       "</style>\n",
       "<table border=\"1\" class=\"dataframe\">\n",
       "  <thead>\n",
       "    <tr style=\"text-align: right;\">\n",
       "      <th></th>\n",
       "      <th>LOCATION</th>\n",
       "      <th>INDICATOR</th>\n",
       "      <th>TIME_PERIOD</th>\n",
       "      <th>0</th>\n",
       "    </tr>\n",
       "  </thead>\n",
       "  <tbody>\n",
       "    <tr>\n",
       "      <th>0</th>\n",
       "      <td>AUS</td>\n",
       "      <td>AN1111NS14_S15HCPC</td>\n",
       "      <td>2000</td>\n",
       "      <td>29328.522939</td>\n",
       "    </tr>\n",
       "    <tr>\n",
       "      <th>1</th>\n",
       "      <td>AUS</td>\n",
       "      <td>AN1111NS14_S15HCPC</td>\n",
       "      <td>2001</td>\n",
       "      <td>30305.272265</td>\n",
       "    </tr>\n",
       "    <tr>\n",
       "      <th>2</th>\n",
       "      <td>AUS</td>\n",
       "      <td>AN1111NS14_S15HCPC</td>\n",
       "      <td>2002</td>\n",
       "      <td>32538.689010</td>\n",
       "    </tr>\n",
       "    <tr>\n",
       "      <th>3</th>\n",
       "      <td>AUS</td>\n",
       "      <td>AN1111NS14_S15HCPC</td>\n",
       "      <td>2003</td>\n",
       "      <td>35127.595654</td>\n",
       "    </tr>\n",
       "    <tr>\n",
       "      <th>4</th>\n",
       "      <td>AUS</td>\n",
       "      <td>AN1111NS14_S15HCPC</td>\n",
       "      <td>2004</td>\n",
       "      <td>37546.902790</td>\n",
       "    </tr>\n",
       "  </tbody>\n",
       "</table>\n",
       "</div>"
      ],
      "text/plain": [
       "  LOCATION           INDICATOR TIME_PERIOD             0\n",
       "0      AUS  AN1111NS14_S15HCPC        2000  29328.522939\n",
       "1      AUS  AN1111NS14_S15HCPC        2001  30305.272265\n",
       "2      AUS  AN1111NS14_S15HCPC        2002  32538.689010\n",
       "3      AUS  AN1111NS14_S15HCPC        2003  35127.595654\n",
       "4      AUS  AN1111NS14_S15HCPC        2004  37546.902790"
      ]
     },
     "execution_count": 201,
     "metadata": {},
     "output_type": "execute_result"
    }
   ],
   "source": [
    "df = df.reset_index()\n",
    "df.head()"
   ]
  },
  {
   "cell_type": "code",
   "execution_count": 202,
   "metadata": {},
   "outputs": [],
   "source": [
    "uki = df[((df['LOCATION'] == 'IRL') | (df['LOCATION'] == 'GBR') | (df['LOCATION'] == 'DEU') | (df['LOCATION'] == 'NLD'))].copy()\n"
   ]
  },
  {
   "cell_type": "code",
   "execution_count": 203,
   "metadata": {},
   "outputs": [],
   "source": [
    "fields = ['GDPCXC','D2D5D91RS13S','D61RS1311S']"
   ]
  },
  {
   "cell_type": "code",
   "execution_count": 204,
   "metadata": {},
   "outputs": [],
   "source": [
    "uki_f = uki.INDICATOR.isin(fields)"
   ]
  },
  {
   "cell_type": "code",
   "execution_count": 205,
   "metadata": {},
   "outputs": [],
   "source": [
    "gbr = uki[uki_f].copy()"
   ]
  },
  {
   "cell_type": "code",
   "execution_count": 206,
   "metadata": {},
   "outputs": [],
   "source": [
    "valu = {'GDPCXC':'GDP BN USD',\n",
    "          'D2D5D91RS13S':'Income Tax GDP%',\n",
    "          'D61RS1311S':'Social_Con GDP%'}\n",
    "\n",
    "gbr['Des'] = gbr.INDICATOR.map(valu)"
   ]
  },
  {
   "cell_type": "code",
   "execution_count": 207,
   "metadata": {},
   "outputs": [],
   "source": [
    "gbr.columns = ['Cty','Measure','Year','Value','Des']"
   ]
  },
  {
   "cell_type": "code",
   "execution_count": 208,
   "metadata": {},
   "outputs": [
    {
     "data": {
      "text/html": [
       "<div>\n",
       "<style scoped>\n",
       "    .dataframe tbody tr th:only-of-type {\n",
       "        vertical-align: middle;\n",
       "    }\n",
       "\n",
       "    .dataframe tbody tr th {\n",
       "        vertical-align: top;\n",
       "    }\n",
       "\n",
       "    .dataframe thead th {\n",
       "        text-align: right;\n",
       "    }\n",
       "</style>\n",
       "<table border=\"1\" class=\"dataframe\">\n",
       "  <thead>\n",
       "    <tr style=\"text-align: right;\">\n",
       "      <th></th>\n",
       "      <th>Cty</th>\n",
       "      <th>Measure</th>\n",
       "      <th>Year</th>\n",
       "      <th>Value</th>\n",
       "      <th>Des</th>\n",
       "    </tr>\n",
       "  </thead>\n",
       "  <tbody>\n",
       "    <tr>\n",
       "      <th>34880</th>\n",
       "      <td>DEU</td>\n",
       "      <td>D2D5D91RS13S</td>\n",
       "      <td>2000</td>\n",
       "      <td>23.654609</td>\n",
       "      <td>Income Tax GDP%</td>\n",
       "    </tr>\n",
       "    <tr>\n",
       "      <th>34881</th>\n",
       "      <td>DEU</td>\n",
       "      <td>D2D5D91RS13S</td>\n",
       "      <td>2001</td>\n",
       "      <td>21.947950</td>\n",
       "      <td>Income Tax GDP%</td>\n",
       "    </tr>\n",
       "    <tr>\n",
       "      <th>34882</th>\n",
       "      <td>DEU</td>\n",
       "      <td>D2D5D91RS13S</td>\n",
       "      <td>2002</td>\n",
       "      <td>21.520618</td>\n",
       "      <td>Income Tax GDP%</td>\n",
       "    </tr>\n",
       "    <tr>\n",
       "      <th>34883</th>\n",
       "      <td>DEU</td>\n",
       "      <td>D2D5D91RS13S</td>\n",
       "      <td>2003</td>\n",
       "      <td>21.649100</td>\n",
       "      <td>Income Tax GDP%</td>\n",
       "    </tr>\n",
       "    <tr>\n",
       "      <th>34884</th>\n",
       "      <td>DEU</td>\n",
       "      <td>D2D5D91RS13S</td>\n",
       "      <td>2004</td>\n",
       "      <td>21.130996</td>\n",
       "      <td>Income Tax GDP%</td>\n",
       "    </tr>\n",
       "    <tr>\n",
       "      <th>...</th>\n",
       "      <td>...</td>\n",
       "      <td>...</td>\n",
       "      <td>...</td>\n",
       "      <td>...</td>\n",
       "      <td>...</td>\n",
       "    </tr>\n",
       "    <tr>\n",
       "      <th>112115</th>\n",
       "      <td>NLD</td>\n",
       "      <td>GDPCXC</td>\n",
       "      <td>2015</td>\n",
       "      <td>765.572771</td>\n",
       "      <td>GDP BN USD</td>\n",
       "    </tr>\n",
       "    <tr>\n",
       "      <th>112116</th>\n",
       "      <td>NLD</td>\n",
       "      <td>GDPCXC</td>\n",
       "      <td>2016</td>\n",
       "      <td>784.060430</td>\n",
       "      <td>GDP BN USD</td>\n",
       "    </tr>\n",
       "    <tr>\n",
       "      <th>112117</th>\n",
       "      <td>NLD</td>\n",
       "      <td>GDPCXC</td>\n",
       "      <td>2017</td>\n",
       "      <td>833.869642</td>\n",
       "      <td>GDP BN USD</td>\n",
       "    </tr>\n",
       "    <tr>\n",
       "      <th>112118</th>\n",
       "      <td>NLD</td>\n",
       "      <td>GDPCXC</td>\n",
       "      <td>2018</td>\n",
       "      <td>914.043438</td>\n",
       "      <td>GDP BN USD</td>\n",
       "    </tr>\n",
       "    <tr>\n",
       "      <th>112119</th>\n",
       "      <td>NLD</td>\n",
       "      <td>GDPCXC</td>\n",
       "      <td>2019</td>\n",
       "      <td>907.050863</td>\n",
       "      <td>GDP BN USD</td>\n",
       "    </tr>\n",
       "  </tbody>\n",
       "</table>\n",
       "<p>240 rows × 5 columns</p>\n",
       "</div>"
      ],
      "text/plain": [
       "        Cty       Measure  Year       Value              Des\n",
       "34880   DEU  D2D5D91RS13S  2000   23.654609  Income Tax GDP%\n",
       "34881   DEU  D2D5D91RS13S  2001   21.947950  Income Tax GDP%\n",
       "34882   DEU  D2D5D91RS13S  2002   21.520618  Income Tax GDP%\n",
       "34883   DEU  D2D5D91RS13S  2003   21.649100  Income Tax GDP%\n",
       "34884   DEU  D2D5D91RS13S  2004   21.130996  Income Tax GDP%\n",
       "...     ...           ...   ...         ...              ...\n",
       "112115  NLD        GDPCXC  2015  765.572771       GDP BN USD\n",
       "112116  NLD        GDPCXC  2016  784.060430       GDP BN USD\n",
       "112117  NLD        GDPCXC  2017  833.869642       GDP BN USD\n",
       "112118  NLD        GDPCXC  2018  914.043438       GDP BN USD\n",
       "112119  NLD        GDPCXC  2019  907.050863       GDP BN USD\n",
       "\n",
       "[240 rows x 5 columns]"
      ]
     },
     "execution_count": 208,
     "metadata": {},
     "output_type": "execute_result"
    }
   ],
   "source": [
    "gbr"
   ]
  },
  {
   "cell_type": "code",
   "execution_count": 209,
   "metadata": {},
   "outputs": [
    {
     "data": {
      "image/png": "[encoded data removed]",
      "text/plain": [
       "<Figure size 432x288 with 1 Axes>"
      ]
     },
     "metadata": {},
     "output_type": "display_data"
    }
   ],
   "source": [
    "import seaborn as sns; sns.set()\n",
    "import matplotlib.pyplot as plt\n",
    "ax = sns.lineplot(x=\"Year\", y=\"Value\", data=gbr[gbr['Measure']=='D2D5D91RS13S'], hue=\"Cty\")\n",
    "_ = plt.xlabel('Year')\n",
    "_ = plt.ylabel('Income Tax GDP%')\n",
    "_ = plt.title('Income Tax as a % of GDP (comparison)')\n",
    "_ = plt.xticks(rotation=90)\n",
    "_ = plt.legend(loc='upper left')\n",
    "_ = plt.tight_layout()"
   ]
  },
  {
   "cell_type": "code",
   "execution_count": null,
   "metadata": {},
   "outputs": [],
   "source": []
  }
 ],
 "metadata": {
  "kernelspec": {
   "display_name": "Python 3",
   "language": "python",
   "name": "python3"
  },
  "language_info": {
   "codemirror_mode": {
    "name": "ipython",
    "version": 3
   },
   "file_extension": ".py",
   "mimetype": "text/x-python",
   "name": "python",
   "nbconvert_exporter": "python",
   "pygments_lexer": "ipython3",
   "version": "3.7.6"
  }
 },
 "nbformat": 4,
 "nbformat_minor": 4
}
